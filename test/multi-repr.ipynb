{
 "cells": [
  {
   "cell_type": "code",
   "execution_count": null,
   "metadata": {},
   "outputs": [],
   "source": [
    "import os\n",
    "from langchain_core.documents import Document\n",
    "\n",
    "# initialize some documents containing a paragraph about a random topic\n",
    "documents = [\n",
    "    Document(page_content=\"Climate change refers to significant changes in global temperatures and weather patterns over time. While climate has changed throughout Earth's history, the rapid warming seen today is primarily driven by the increase in greenhouse gases, such as carbon dioxide and methane, due to human activities like deforestation, industrial processes, and the burning of fossil fuels. This warming has numerous effects on the environment, including more frequent and severe heatwaves, droughts, and heavy rainfall events, which can lead to disasters like wildfires and floods. Additionally, rising sea levels caused by the melting of polar ice and the expansion of warmer sea waters pose significant threats to coastal regions. Changes in climate also affect biodiversity, as species must either adapt to new conditions, migrate, or face extinction. The social and economic impacts are equally significant, affecting agriculture, health, water supplies, and even triggering human displacement. Addressing climate change requires global cooperation to reduce greenhouse gas emissions, alongside efforts to adapt to its inevitable impacts and invest in sustainable technologies.\",\n",
    "             metadata={\"id\": \"1000\"}),\n",
    "    Document(page_content=\"Thanos is one of the most iconic and powerful villains in the Marvel Universe, known for his obsession with balancing the universe by any means necessary, including mass genocide. Originating from the moon Titan, he is a member of the race known as the Eternals, possessing immense strength, intelligence, and mastery of mystical forces. Thanos is driven by his infatuation with the physical embodiment of Death, to whom he aims to prove his love by erasing half of all life in the universe. His quest to achieve this goal involves a relentless search for the Infinity Stones—artifacts of incredible power that, when combined in the Infinity Gauntlet, give him the ability to manipulate reality, time, space, and the very fabric of existence. His complex character is marked not only by his malevolence but also by a philosophical underpinning that he believes justifies his catastrophic actions. This chilling conviction makes him a unique villain who not only challenges the physical might of heroes like the Avengers but also poses profound moral and ethical dilemmas.\",\n",
    "             metadata={\"id\": \"1001\"}),\n",
    "    Document(page_content=\"Mercedes-Benz is a globally recognized German automobile brand known for its luxury vehicles, buses, coaches, and trucks. Founded in 1926 under the name Daimler-Benz, it originated from the merging of Karl Benz's and Gottlieb Daimler's companies, who independently developed the first gasoline-powered automobiles in the late 19th century. The brand is synonymous with quality, innovation, and sophistication, often pioneering advancements in safety, comfort, and technology. Mercedes-Benz was the first to introduce innovations such as the anti-lock braking system (ABS), electronic stability program (ESP), and PRE-SAFE systems, which have set industry standards. The company places a significant emphasis on producing vehicles that offer a blend of high performance, exceptional luxury, and aesthetic design. With a reputation built on more than a century of excellence, Mercedes-Benz continues to be at the forefront of automotive development, including new initiatives in electric vehicles and sustainable mobility solutions, aiming to shape the future of transportation while maintaining its legacy of luxury and quality.\",\n",
    "             metadata={\"id\": \"1002\"})\n",
    "]"
   ]
  },
  {
   "cell_type": "code",
   "execution_count": null,
   "metadata": {},
   "outputs": [],
   "source": [
    "from langchain_aws import BedrockEmbeddings\n",
    "\n",
    "# init embeddings function\n",
    "bedrock_embeddings = BedrockEmbeddings(\n",
    "    credentials_profile_name=os.getenv(\"AWS_CREDENTIALS_PROFILE_NAME\"),\n",
    "    region_name=os.getenv(\"AWS_REGION_NAME\", \"eu-central-1\"),\n",
    "    model_id=os.getenv(\"AWS_EMBEDDING_MODEL_ID\", \"amazon.titan-text-express-v1\")\n",
    ")"
   ]
  },
  {
   "cell_type": "code",
   "execution_count": null,
   "metadata": {},
   "outputs": [],
   "source": [
    "from langchain_aws.chat_models import ChatBedrock\n",
    "\n",
    "bedrock_llm = ChatBedrock(\n",
    "    credentials_profile_name=os.getenv(\"AWS_CREDENTIALS_PROFILE_NAME\"),\n",
    "    region_name=os.getenv(\"AWS_REGION_NAME\", \"eu-central-1\"),\n",
    "    model_id=os.getenv(\"AWS_LANGUAGE_MODEL_ID\", \"amazon.titan-text-express-v1\"),\n",
    "    model_kwargs={\"temperature\": 0.0, \"maxTokenCount\": 8192}\n",
    ")"
   ]
  },
  {
   "cell_type": "code",
   "execution_count": null,
   "metadata": {},
   "outputs": [],
   "source": [
    "from langchain_core.output_parsers import StrOutputParser\n",
    "from langchain_core.prompts import ChatPromptTemplate\n",
    "\n",
    "# create summaries of the parent documents\n",
    "chain = (\n",
    "    {\"doc\": lambda x: x.page_content}\n",
    "    | ChatPromptTemplate.from_template(\n",
    "        \"\"\"Summarize the following paragraph in one sentence, including important key words:\n",
    "        \n",
    "        ---\n",
    "        {doc}\n",
    "        ---\n",
    "        \n",
    "        Assistant:\n",
    "        \"\"\"\n",
    "    )\n",
    "    | bedrock_llm\n",
    "    | StrOutputParser()\n",
    ")\n",
    "\n",
    "summaries = chain.batch(documents)"
   ]
  },
  {
   "cell_type": "code",
   "execution_count": null,
   "metadata": {},
   "outputs": [],
   "source": [
    "import chromadb\n",
    "from chromadb.config import Settings\n",
    "from langchain_community.vectorstores import Chroma\n",
    "\n",
    "COLLECTION_NAME = \"test_multivec_retriever\"\n",
    "\n",
    "# init a client that connects to a local chromadb server\n",
    "chroma_settings = Settings(allow_reset=True)\n",
    "chroma_client = chromadb.HttpClient(\n",
    "    settings=chroma_settings,\n",
    ")\n",
    "\n",
    "# The vectorstore to use to index the child chunks\n",
    "vectorstore = Chroma(\n",
    "    client=chroma_client,\n",
    "    collection_name=COLLECTION_NAME,\n",
    "    embedding_function=bedrock_embeddings,\n",
    ")"
   ]
  },
  {
   "cell_type": "code",
   "execution_count": null,
   "metadata": {},
   "outputs": [],
   "source": [
    "chroma_client.delete_collection(COLLECTION_NAME)"
   ]
  },
  {
   "cell_type": "code",
   "execution_count": null,
   "metadata": {},
   "outputs": [],
   "source": [
    "from langchain.storage.redis import RedisStore\n",
    "from redis import Redis\n",
    "\n",
    "redis_client = Redis(host='localhost', port=6379)\n",
    "\n",
    "# The storage layer for the parent documents\n",
    "doc_store = RedisStore(\n",
    "    client=redis_client,\n",
    ")"
   ]
  },
  {
   "cell_type": "code",
   "execution_count": null,
   "metadata": {},
   "outputs": [],
   "source": [
    "from langchain.retrievers import MultiVectorRetriever\n",
    "\n",
    "# id key for summary document\n",
    "ID_KEY = \"parent_doc_id\"\n",
    "\n",
    "retriever = MultiVectorRetriever(\n",
    "    vectorstore=vectorstore,\n",
    "    byte_store=doc_store,\n",
    "    id_key=ID_KEY,\n",
    "    search_kwargs={\"k\": 1}\n",
    ")\n",
    "\n",
    "parent_doc_ids = [doc.metadata['id'] for doc in documents]\n",
    "\n",
    "# create a list of summary docs\n",
    "# each element is a document\n",
    "# - containing the summary\n",
    "# - having a metadata property with a \"parent_doc_id\" corresponding do the id of the parent doc\n",
    "summary_docs = [\n",
    "    Document(page_content=summary, metadata={ID_KEY: parent_doc_ids[i]})\n",
    "    for i, summary in enumerate(summaries)\n",
    "]\n",
    "\n",
    "# Add embeddings of the summaries\n",
    "retriever.vectorstore.add_documents(summary_docs)\n",
    "\n",
    "# add the parent document and it's id to the document store\n",
    "retriever.docstore.mset(list(zip(parent_doc_ids, documents)))"
   ]
  },
  {
   "cell_type": "code",
   "execution_count": null,
   "metadata": {},
   "outputs": [],
   "source": [
    "query = \"\"\n",
    "\n",
    "# perform similarity search on the embeddings of the summaries\n",
    "sub_docs = vectorstore.similarity_search(query=query, k=1)\n",
    "print(sub_docs[0].page_content)\n",
    "\n",
    "print(\"------------------------------------\")\n",
    "\n",
    "retrieved_full_docs = retriever.invoke(query)\n",
    "retrieved_full_docs[0].page_content"
   ]
  },
  {
   "cell_type": "code",
   "execution_count": null,
   "metadata": {},
   "outputs": [],
   "source": [
    "from langchain_community.chat_models.ollama import ChatOllama\n",
    "from langchain import hub\n",
    "from langchain_core.output_parsers import StrOutputParser\n",
    "from langchain_core.runnables import RunnablePassthrough\n",
    "\n",
    "ollama_llm = ChatOllama(model=\"mistral:7b\", temperature=0)\n",
    "\n",
    "query = \"What iinovations did Mercedes Benz introduce?\"\n",
    "\n",
    "prompt = hub.pull(\"rlm/rag-prompt\")\n",
    "\n",
    "chain = (\n",
    "    {\"context\": retriever, \"question\": RunnablePassthrough()}\n",
    "    | prompt\n",
    "    | ollama_llm\n",
    "    | StrOutputParser()\n",
    ")\n",
    "\n",
    "response = chain.invoke(query)\n",
    "response"
   ]
  }
 ],
 "metadata": {
  "kernelspec": {
   "display_name": ".venv",
   "language": "python",
   "name": "python3"
  },
  "language_info": {
   "codemirror_mode": {
    "name": "ipython",
    "version": 3
   },
   "file_extension": ".py",
   "mimetype": "text/x-python",
   "name": "python",
   "nbconvert_exporter": "python",
   "pygments_lexer": "ipython3",
   "version": "3.12.3"
  }
 },
 "nbformat": 4,
 "nbformat_minor": 2
}
