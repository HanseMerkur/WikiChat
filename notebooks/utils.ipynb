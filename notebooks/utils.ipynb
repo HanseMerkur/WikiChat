{
 "cells": [
  {
   "cell_type": "markdown",
   "metadata": {},
   "source": [
    "# Utils"
   ]
  },
  {
   "cell_type": "code",
   "execution_count": 1,
   "metadata": {},
   "outputs": [],
   "source": [
    "from chromadb import HttpClient\n",
    "from chromadb.config import Settings"
   ]
  },
  {
   "cell_type": "code",
   "execution_count": 2,
   "metadata": {},
   "outputs": [],
   "source": [
    "chroma_settings = Settings(allow_reset=True)\n",
    "chroma_client = HttpClient(\n",
    "    settings=chroma_settings,\n",
    ")"
   ]
  },
  {
   "cell_type": "markdown",
   "metadata": {},
   "source": [
    "## List all collections in ChromaDB"
   ]
  },
  {
   "cell_type": "code",
   "execution_count": 4,
   "metadata": {},
   "outputs": [
    {
     "name": "stdout",
     "output_type": "stream",
     "text": [
      "There are 10 in total: \n",
      "0 - 1024_ITICP\n",
      "---\n",
      "1 - 300_HCPSD\n",
      "---\n",
      "2 - 800_HCPSD\n",
      "---\n",
      "3 - HCPSD_concise_summaries\n",
      "---\n",
      "4 - HCPSD_summaries\n",
      "---\n",
      "5 - 500_HCPSD\n",
      "---\n",
      "6 - 1024_HCPSD\n",
      "---\n",
      "7 - 1000_HCPSD\n",
      "---\n",
      "8 - test_multivec_retriever\n",
      "---\n",
      "9 - 600_HCPSD\n",
      "---\n"
     ]
    }
   ],
   "source": [
    "collections = chroma_client.list_collections()\n",
    "\n",
    "print(f\"There are {len(collections)} in total: \")\n",
    "for i, collection in enumerate(collections, start=1):\n",
    "    print(f\"{i} - {collection.name}\")\n",
    "    #print(collection.id)\n",
    "    #print(collection.metadata)\n",
    "    print(\"---\")"
   ]
  },
  {
   "cell_type": "markdown",
   "metadata": {},
   "source": [
    "## Delete a collcation in ChromaDB"
   ]
  },
  {
   "cell_type": "code",
   "execution_count": null,
   "metadata": {},
   "outputs": [],
   "source": [
    "chroma_client.delete_collection(name=\"HCPSD_1024\")"
   ]
  }
 ],
 "metadata": {
  "kernelspec": {
   "display_name": ".venv",
   "language": "python",
   "name": "python3"
  },
  "language_info": {
   "codemirror_mode": {
    "name": "ipython",
    "version": 3
   },
   "file_extension": ".py",
   "mimetype": "text/x-python",
   "name": "python",
   "nbconvert_exporter": "python",
   "pygments_lexer": "ipython3",
   "version": "3.12.3"
  }
 },
 "nbformat": 4,
 "nbformat_minor": 2
}
